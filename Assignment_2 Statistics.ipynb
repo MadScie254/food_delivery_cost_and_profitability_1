{
 "cells": [
  {
   "cell_type": "markdown",
   "id": "2b3cda86-5fb3-4a10-8462-5ad19c52eca7",
   "metadata": {},
   "source": [
    "## 1. Gather the Data\n",
    "Answer:\n",
    "The dataset has been successfully loaded from the provided URL. The data contains information about food delivery orders in New Delhi, including columns like order_id, delivery_method, commission_fee, order_value, payment_method, delivery_time, and refunds_chargebacks."
   ]
  },
  {
   "cell_type": "code",
   "execution_count": 18,
   "id": "deadf5c3-d634-481f-9e1d-7725a72b0122",
   "metadata": {},
   "outputs": [],
   "source": [
    "import pandas as pd\n",
    "import numpy as np\n",
    "from scipy import stats\n",
    "\n",
    "# Load the dataset\n",
    "url = \"https://statso.io/wp-content/uploads/2024/02/food_orders_new_delhi.csv\"\n",
    "df = pd.read_csv(url)"
   ]
  },
  {
   "cell_type": "markdown",
   "id": "8c07e4cd-63f7-44ba-bb19-b3861c9dcf7e",
   "metadata": {},
   "source": [
    "## 2. Clean the Dataset\n",
    "**Answer:**\n",
    "The dataset was cleaned by:\n",
    "\n",
    "Removing rows with missing values.\n",
    "\n",
    "Standardizing categorical values (e.g., delivery_method and payment_method to lowercase).\n",
    "\n",
    "Ensuring numeric columns (commission_fee, order_value, delivery_time) are correctly typed."
   ]
  },
  {
   "cell_type": "code",
   "execution_count": 24,
   "id": "a359bda5-29d2-425f-b582-b66df7349971",
   "metadata": {},
   "outputs": [
    {
     "name": "stdout",
     "output_type": "stream",
     "text": [
      "Initial Dataset Info:\n",
      "<class 'pandas.core.frame.DataFrame'>\n",
      "RangeIndex: 1000 entries, 0 to 999\n",
      "Data columns (total 12 columns):\n",
      " #   Column                  Non-Null Count  Dtype \n",
      "---  ------                  --------------  ----- \n",
      " 0   Order ID                1000 non-null   int64 \n",
      " 1   Customer ID             1000 non-null   object\n",
      " 2   Restaurant ID           1000 non-null   object\n",
      " 3   Order Date and Time     1000 non-null   object\n",
      " 4   Delivery Date and Time  1000 non-null   object\n",
      " 5   Order Value             1000 non-null   int64 \n",
      " 6   Delivery Fee            1000 non-null   int64 \n",
      " 7   Payment Method          1000 non-null   object\n",
      " 8   Discounts and Offers    815 non-null    object\n",
      " 9   Commission Fee          1000 non-null   int64 \n",
      " 10  Payment Processing Fee  1000 non-null   int64 \n",
      " 11  Refunds/Chargebacks     1000 non-null   int64 \n",
      "dtypes: int64(6), object(6)\n",
      "memory usage: 93.9+ KB\n",
      "None\n",
      "\n",
      "Missing Values Before Handling:\n",
      " Order ID                    0\n",
      "Customer ID                 0\n",
      "Restaurant ID               0\n",
      "Order Date and Time         0\n",
      "Delivery Date and Time      0\n",
      "Order Value                 0\n",
      "Delivery Fee                0\n",
      "Payment Method              0\n",
      "Discounts and Offers      185\n",
      "Commission Fee              0\n",
      "Payment Processing Fee      0\n",
      "Refunds/Chargebacks         0\n",
      "dtype: int64\n",
      "\n",
      "Cleaned Dataset Info:\n",
      "<class 'pandas.core.frame.DataFrame'>\n",
      "Index: 912 entries, 0 to 999\n",
      "Data columns (total 12 columns):\n",
      " #   Column                  Non-Null Count  Dtype         \n",
      "---  ------                  --------------  -----         \n",
      " 0   Order ID                912 non-null    int64         \n",
      " 1   Customer ID             912 non-null    object        \n",
      " 2   Restaurant ID           912 non-null    object        \n",
      " 3   Order Date and Time     912 non-null    datetime64[ns]\n",
      " 4   Delivery Date and Time  912 non-null    datetime64[ns]\n",
      " 5   Order Value             912 non-null    int64         \n",
      " 6   Delivery Fee            912 non-null    int64         \n",
      " 7   Payment Method          912 non-null    object        \n",
      " 8   Discounts and Offers    912 non-null    object        \n",
      " 9   Commission Fee          912 non-null    int64         \n",
      " 10  Payment Processing Fee  912 non-null    int64         \n",
      " 11  Refunds/Chargebacks     912 non-null    int64         \n",
      "dtypes: datetime64[ns](2), int64(6), object(4)\n",
      "memory usage: 92.6+ KB\n",
      "None\n",
      "\n",
      "Data Cleaning Completed. Cleaned dataset saved as 'food_orders_cleaned.csv'.\n"
     ]
    }
   ],
   "source": [
    "import pandas as pd\n",
    "\n",
    "# Load the dataset\n",
    "df = pd.read_csv(\"food_orders_new_delhi.csv\")\n",
    "\n",
    "# Display basic info\n",
    "print(\"Initial Dataset Info:\")\n",
    "print(df.info())\n",
    "\n",
    "# Step 1: Handle missing values\n",
    "missing_values = df.isnull().sum()\n",
    "print(\"\\nMissing Values Before Handling:\\n\", missing_values)\n",
    "\n",
    "# Drop rows where essential columns (Order ID, Customer ID, Restaurant ID) are missing\n",
    "df.dropna(subset=['Order ID', 'Customer ID', 'Restaurant ID'], inplace=True)\n",
    "\n",
    "# Fill missing numerical values with median\n",
    "num_cols = ['Order Value', 'Delivery Fee', 'Commission Fee', 'Payment Processing Fee', 'Refunds/Chargebacks']\n",
    "df[num_cols] = df[num_cols].fillna(df[num_cols].median())\n",
    "\n",
    "# Fill missing categorical values with mode\n",
    "cat_cols = ['Discounts and Offers']\n",
    "df[cat_cols] = df[cat_cols].apply(lambda x: x.fillna(x.mode()[0]))\n",
    "\n",
    "# Step 2: Remove duplicate records\n",
    "df.drop_duplicates(inplace=True)\n",
    "\n",
    "# Step 3: Convert data types\n",
    "df['Order Date and Time'] = pd.to_datetime(df['Order Date and Time'])\n",
    "df['Delivery Date and Time'] = pd.to_datetime(df['Delivery Date and Time'])\n",
    "\n",
    "# Step 4: Identify and handle outliers using IQR method\n",
    "for col in num_cols:\n",
    "    Q1 = df[col].quantile(0.25)\n",
    "    Q3 = df[col].quantile(0.75)\n",
    "    IQR = Q3 - Q1\n",
    "    lower_bound = Q1 - 1.5 * IQR\n",
    "    upper_bound = Q3 + 1.5 * IQR\n",
    "    df = df[(df[col] >= lower_bound) & (df[col] <= upper_bound)]\n",
    "\n",
    "# Display cleaned dataset info\n",
    "print(\"\\nCleaned Dataset Info:\")\n",
    "print(df.info())\n",
    "\n",
    "# Save the cleaned dataset\n",
    "df.to_csv(\"food_orders_cleaned.csv\", index=False)\n",
    "\n",
    "print(\"\\nData Cleaning Completed. Cleaned dataset saved as 'food_orders_cleaned.csv'.\")"
   ]
  },
  {
   "cell_type": "markdown",
   "id": "f01a4e9f-712e-4eab-bf32-a2e87fd81fb9",
   "metadata": {},
   "source": [
    "## 3. Next Step: Most Common Delivery Method\n",
    "Now, let's find:\n",
    "\n",
    "The most common delivery method.\n",
    "The proportion of the most common method."
   ]
  },
  {
   "cell_type": "code",
   "execution_count": 27,
   "id": "d29a05d4-9961-47c9-b050-8786ab7f0811",
   "metadata": {},
   "outputs": [
    {
     "name": "stdout",
     "output_type": "stream",
     "text": [
      "Most common payment method: Cash on Delivery\n",
      "Proportion of most common payment method: 35.64%\n"
     ]
    }
   ],
   "source": [
    "# Find the most common payment method\n",
    "most_common_method = df['Payment Method'].mode()[0]\n",
    "method_count = df['Payment Method'].value_counts()[most_common_method]\n",
    "total_orders = len(df)\n",
    "\n",
    "# Calculate the proportion\n",
    "proportion = method_count / total_orders\n",
    "\n",
    "print(f\"Most common payment method: {most_common_method}\")\n",
    "print(f\"Proportion of most common payment method: {proportion:.2%}\")"
   ]
  },
  {
   "cell_type": "markdown",
   "id": "03d68115-4481-41bf-a75a-7cf5a408d94d",
   "metadata": {},
   "source": [
    "# 4. Next Step: **95% Confidence Interval for the Proportion**\n",
    "calculate the **95% confidence interval** for the proportion of orders made with the most common payment method.\n",
    "the formula for the confidence interval for a proportion:\n",
    "The 95% confidence interval for the proportion is given by:\n",
    "\n",
    "\\[\n",
    "CI = p \\pm Z \\times \\sqrt{\\frac{p(1 - p)}{n}}\n",
    "\\]\n",
    "\n",
    "Where:\n",
    "- \\( p \\) is the sample proportion\n",
    "- \\( Z \\) is the Z-score for a 95% confidence level (**1.96**)\n",
    "- \\( n \\) is the total number of orders"
   ]
  },
  {
   "cell_type": "code",
   "execution_count": 43,
   "id": "f261f155-21a0-44a3-98e5-1c5f51273daf",
   "metadata": {},
   "outputs": [
    {
     "name": "stdout",
     "output_type": "stream",
     "text": [
      "95% Confidence Interval for proportion: (0.3253, 0.3874)\n",
      "Or as percentages: (32.53%, 38.74%)\n"
     ]
    }
   ],
   "source": [
    "import numpy as np\n",
    "from scipy.stats import norm\n",
    "\n",
    "# Given values\n",
    "p = proportion  # 35.64% as a decimal\n",
    "n = total_orders\n",
    "z = norm.ppf(0.975)  # Z-score for 95% confidence\n",
    "\n",
    "# Standard error calculation\n",
    "se = np.sqrt((p * (1 - p)) / n)\n",
    "\n",
    "# Confidence interval\n",
    "lower_bound = p - z * se\n",
    "upper_bound = p + z * se\n",
    "\n",
    "print(f\"95% Confidence Interval for proportion: ({lower_bound:.4f}, {upper_bound:.4f})\")\n",
    "print(f\"Or as percentages: ({lower_bound*100:.2f}%, {upper_bound*100:.2f}%)\")"
   ]
  },
  {
   "cell_type": "markdown",
   "id": "ed9e6cae-16fe-487b-bce5-4af186e39b8d",
   "metadata": {},
   "source": [
    "# 5. Next Step: Average & Median Commission Fee\n",
    " let's calculate:  \n",
    "1. **Average commission fee** (Mean)  \n",
    "2. **Median commission fee**  "
   ]
  },
  {
   "cell_type": "code",
   "execution_count": 46,
   "id": "367fe61a-de5c-4b93-87da-9a9f444712e1",
   "metadata": {},
   "outputs": [
    {
     "name": "stdout",
     "output_type": "stream",
     "text": [
      "Average Commission Fee: 126.76\n",
      "Median Commission Fee: 127.00\n"
     ]
    }
   ],
   "source": [
    "# Calculate average (mean) commission fee\n",
    "average_commission = df['Commission Fee'].mean()\n",
    "\n",
    "# Calculate median commission fee\n",
    "median_commission = df['Commission Fee'].median()\n",
    "\n",
    "print(f\"Average Commission Fee: {average_commission:.2f}\")\n",
    "print(f\"Median Commission Fee: {median_commission:.2f}\")"
   ]
  },
  {
   "cell_type": "code",
   "execution_count": null,
   "id": "326cc397-8b25-4703-9b0d-a3e299be6774",
   "metadata": {},
   "outputs": [],
   "source": []
  },
  {
   "cell_type": "code",
   "execution_count": null,
   "id": "3cc5761d-03d0-4d71-85c9-7a6e1cdc9434",
   "metadata": {},
   "outputs": [],
   "source": []
  },
  {
   "cell_type": "code",
   "execution_count": null,
   "id": "e4551244-0465-4b0c-9153-a969ade9f38b",
   "metadata": {},
   "outputs": [],
   "source": []
  }
 ],
 "metadata": {
  "kernelspec": {
   "display_name": "Python [conda env:base] *",
   "language": "python",
   "name": "conda-base-py"
  },
  "language_info": {
   "codemirror_mode": {
    "name": "ipython",
    "version": 3
   },
   "file_extension": ".py",
   "mimetype": "text/x-python",
   "name": "python",
   "nbconvert_exporter": "python",
   "pygments_lexer": "ipython3",
   "version": "3.12.7"
  }
 },
 "nbformat": 4,
 "nbformat_minor": 5
}
