{
 "cells": [
  {
   "cell_type": "code",
   "execution_count": 2,
   "id": "2e2c3f85-ae37-4d81-9619-cf35c0506816",
   "metadata": {},
   "outputs": [],
   "source": [
    "import pandas as pd\n",
    "\n",
    "# Load the dataset\n",
    "df = pd.read_csv('food_orders_new_delhi.csv')"
   ]
  },
  {
   "cell_type": "code",
   "execution_count": 18,
   "id": "2aff7d03-54a1-4360-9daa-22e462a24636",
   "metadata": {
    "scrolled": true
   },
   "outputs": [
    {
     "name": "stdout",
     "output_type": "stream",
     "text": [
      "First few rows of the dataset:\n",
      "   Order ID Customer ID Restaurant ID  Order Date and Time  \\\n",
      "0         1       C8270         R2924  2024-02-01 01:11:52   \n",
      "1         2       C1860         R2054  2024-02-02 22:11:04   \n",
      "2         3       C6390         R2870  2024-01-31 05:54:35   \n",
      "3         4       C6191         R2642  2024-01-16 22:52:49   \n",
      "4         5       C6734         R2799  2024-01-29 01:19:30   \n",
      "\n",
      "  Delivery Date and Time  Order Value  Delivery Fee    Payment Method  \\\n",
      "0    2024-02-01 02:39:52         1914             0       Credit Card   \n",
      "1    2024-02-02 22:46:04          986            40    Digital Wallet   \n",
      "2    2024-01-31 06:52:35          937            30  Cash on Delivery   \n",
      "3    2024-01-16 23:38:49         1463            50  Cash on Delivery   \n",
      "4    2024-01-29 02:48:30         1992            30  Cash on Delivery   \n",
      "\n",
      "  Discounts and Offers  Commission Fee  Payment Processing Fee  \\\n",
      "0            5% on App             150                      47   \n",
      "1                  10%             198                      23   \n",
      "2         15% New User             195                      45   \n",
      "3                  NaN             146                      27   \n",
      "4         50 off Promo             130                      50   \n",
      "\n",
      "   Refunds/Chargebacks  \n",
      "0                    0  \n",
      "1                    0  \n",
      "2                    0  \n",
      "3                    0  \n",
      "4                    0  \n",
      "\n",
      "Missing values in each column:\n",
      "Order ID                    0\n",
      "Customer ID                 0\n",
      "Restaurant ID               0\n",
      "Order Date and Time         0\n",
      "Delivery Date and Time      0\n",
      "Order Value                 0\n",
      "Delivery Fee                0\n",
      "Payment Method              0\n",
      "Discounts and Offers      185\n",
      "Commission Fee              0\n",
      "Payment Processing Fee      0\n",
      "Refunds/Chargebacks         0\n",
      "dtype: int64\n",
      "\n",
      "Missing values after cleaning:\n",
      "Order ID                  0\n",
      "Customer ID               0\n",
      "Restaurant ID             0\n",
      "Order Date and Time       0\n",
      "Delivery Date and Time    0\n",
      "Order Value               0\n",
      "Delivery Fee              0\n",
      "Payment Method            0\n",
      "Discounts and Offers      0\n",
      "Commission Fee            0\n",
      "Payment Processing Fee    0\n",
      "Refunds/Chargebacks       0\n",
      "dtype: int64\n",
      "\n",
      "Cleaned dataset head:\n",
      "   Order ID Customer ID Restaurant ID  Order Date and Time  \\\n",
      "0         1       C8270         R2924  2024-02-01 01:11:52   \n",
      "1         2       C1860         R2054  2024-02-02 22:11:04   \n",
      "2         3       C6390         R2870  2024-01-31 05:54:35   \n",
      "3         4       C6191         R2642  2024-01-16 22:52:49   \n",
      "4         5       C6734         R2799  2024-01-29 01:19:30   \n",
      "\n",
      "  Delivery Date and Time  Order Value  Delivery Fee    Payment Method  \\\n",
      "0    2024-02-01 02:39:52         1914             0       Credit Card   \n",
      "1    2024-02-02 22:46:04          986            40    Digital Wallet   \n",
      "2    2024-01-31 06:52:35          937            30  Cash on Delivery   \n",
      "3    2024-01-16 23:38:49         1463            50  Cash on Delivery   \n",
      "4    2024-01-29 02:48:30         1992            30  Cash on Delivery   \n",
      "\n",
      "  Discounts and Offers  Commission Fee  Payment Processing Fee  \\\n",
      "0            5% on App             150                      47   \n",
      "1                  10%             198                      23   \n",
      "2         15% New User             195                      45   \n",
      "3                  10%             146                      27   \n",
      "4         50 off Promo             130                      50   \n",
      "\n",
      "   Refunds/Chargebacks  \n",
      "0                    0  \n",
      "1                    0  \n",
      "2                    0  \n",
      "3                    0  \n",
      "4                    0  \n"
     ]
    }
   ],
   "source": [
    "import pandas as pd\n",
    "\n",
    "# Load the dataset\n",
    "df = pd.read_csv('https://statso.io/wp-content/uploads/2024/02/food_orders_new_delhi.csv')\n",
    "\n",
    "# Inspect the first few rows\n",
    "print(\"First few rows of the dataset:\")\n",
    "print(df.head())\n",
    "\n",
    "# Check for missing values\n",
    "print(\"\\nMissing values in each column:\")\n",
    "print(df.isnull().sum())\n",
    "\n",
    "# Handle missing values\n",
    "numeric_columns = df.select_dtypes(include=['float64', 'int64']).columns\n",
    "categorical_columns = df.select_dtypes(include=['object']).columns\n",
    "\n",
    "# Fill missing values in numeric columns with mean\n",
    "df[numeric_columns] = df[numeric_columns].fillna(df[numeric_columns].mean())\n",
    "\n",
    "# Fill missing values in categorical columns with mode\n",
    "for col in categorical_columns:\n",
    "    df[col] = df[col].fillna(df[col].mode()[0])\n",
    "\n",
    "# Verify that there are no more missing values\n",
    "print(\"\\nMissing values after cleaning:\")\n",
    "print(df.isnull().sum())\n",
    "\n",
    "# Drop irrelevant columns if necessary\n",
    "# Example:df.drop(['irrelevant_column'], axis=1, inplace=True)\n",
    "\n",
    "# Convert data types if necessary\n",
    "# Example: df['column_name'] = df['column_name'].astype('int')\n",
    "\n",
    "# Print cleaned dataframe head to verify\n",
    "print(\"\\nCleaned dataset head:\")\n",
    "print(df.head())"
   ]
  },
  {
   "cell_type": "code",
   "execution_count": 24,
   "id": "6a990120-0097-44d1-950a-36deb227426d",
   "metadata": {},
   "outputs": [
    {
     "name": "stdout",
     "output_type": "stream",
     "text": [
      "Most common delivery method: Cash on Delivery\n",
      "Proportion: 0.357\n"
     ]
    }
   ],
   "source": [
    "# Count occurrences of each delivery method\n",
    "delivery_method_counts = df['Payment Method'].value_counts()\n",
    "\n",
    "# Most common delivery method\n",
    "most_common_delivery_method = delivery_method_counts.idxmax()\n",
    "proportion_most_common = delivery_method_counts.max() / len(df)\n",
    "\n",
    "print(\"Most common delivery method: \" + str(most_common_delivery_method))\n",
    "print(\"Proportion: \" + str(proportion_most_common))"
   ]
  },
  {
   "cell_type": "code",
   "execution_count": 26,
   "id": "f9b35b21-7eeb-4b38-b660-d2a20a7b546b",
   "metadata": {},
   "outputs": [
    {
     "name": "stdout",
     "output_type": "stream",
     "text": [
      "95% Confidence Interval: [0.3273047021609623, 0.38669529783903767]\n"
     ]
    }
   ],
   "source": [
    "from statsmodels.stats.proportion import proportion_confint\n",
    "\n",
    "# Number of successes (most common method count)\n",
    "successes = delivery_method_counts.max()\n",
    "total = len(df)\n",
    "\n",
    "# Confidence interval\n",
    "lower_bound, upper_bound = proportion_confint(successes, total, alpha=0.05, method='normal')\n",
    "\n",
    "print(\"95% Confidence Interval: [\" + str(lower_bound) + \", \" + str(upper_bound) + \"]\")"
   ]
  },
  {
   "cell_type": "code",
   "execution_count": 28,
   "id": "b23a1b7c-df83-46d0-a852-abe4a754dfa8",
   "metadata": {},
   "outputs": [
    {
     "name": "stdout",
     "output_type": "stream",
     "text": [
      "Average Commission Fee: 126.99\n",
      "Median Commission Fee: 127.0\n"
     ]
    }
   ],
   "source": [
    "average_commission_fee = df['Commission Fee'].mean()\n",
    "median_commission_fee = df['Commission Fee'].median()\n",
    "\n",
    "print(\"Average Commission Fee: \" + str(average_commission_fee))\n",
    "print(\"Median Commission Fee: \" + str(median_commission_fee))"
   ]
  },
  {
   "cell_type": "code",
   "execution_count": 30,
   "id": "116bc4ac-be9e-41b4-8480-02c633136cc5",
   "metadata": {},
   "outputs": [
    {
     "name": "stdout",
     "output_type": "stream",
     "text": [
      "Average Order Value: 1053.969\n"
     ]
    }
   ],
   "source": [
    "average_order_value = df['Order Value'].mean()\n",
    "\n",
    "print(\"Average Order Value: \" + str(average_order_value))"
   ]
  },
  {
   "cell_type": "code",
   "execution_count": 32,
   "id": "3085de2c-2f16-464d-bd19-ef0e653909bc",
   "metadata": {},
   "outputs": [
    {
     "name": "stdout",
     "output_type": "stream",
     "text": [
      "P(commission > 120): 0.5644716352141099\n",
      "P(commission < 143): 0.6449686242052821\n",
      "P(86 < commission < 133): 0.3849064343549144\n"
     ]
    }
   ],
   "source": [
    "import scipy.stats as stats\n",
    "\n",
    "mean_commission_fee = df['Commission Fee'].mean()\n",
    "std_commission_fee = df['Commission Fee'].std()\n",
    "\n",
    "# Probability more than 120\n",
    "prob_more_than_120 = 1 - stats.norm.cdf(120, loc=mean_commission_fee, scale=std_commission_fee)\n",
    "\n",
    "# Probability less than 143\n",
    "prob_less_than_143 = stats.norm.cdf(143, loc=mean_commission_fee, scale=std_commission_fee)\n",
    "\n",
    "# Probability between 86 and 133\n",
    "prob_between_86_and_133 = stats.norm.cdf(133, loc=mean_commission_fee, scale=std_commission_fee) - stats.norm.cdf(86, loc=mean_commission_fee, scale=std_commission_fee)\n",
    "\n",
    "print(\"P(commission > 120): \" + str(prob_more_than_120))\n",
    "print(\"P(commission < 143): \" + str(prob_less_than_143))\n",
    "print(\"P(86 < commission < 133): \" + str(prob_between_86_and_133))"
   ]
  },
  {
   "cell_type": "code",
   "execution_count": 34,
   "id": "4fd557b9-6479-4321-97d4-4714c8ad475a",
   "metadata": {},
   "outputs": [
    {
     "name": "stdout",
     "output_type": "stream",
     "text": [
      "Average Delivery Time (Credit Card): -259.1780110452778\n"
     ]
    }
   ],
   "source": [
    "credit_card_orders = df[df['Payment Method'] == 'Credit Card']\n",
    "average_delivery_time_credit_card = credit_card_orders['Delivery Date and Time'].apply(lambda x: pd.to_datetime(x) - pd.to_datetime(credit_card_orders['Order Date and Time'].iloc[0])).mean().total_seconds() / 3600\n",
    "\n",
    "print(\"Average Delivery Time (Credit Card): \" + str(average_delivery_time_credit_card))"
   ]
  },
  {
   "cell_type": "code",
   "execution_count": 36,
   "id": "280bdb38-e76a-4663-81b8-fb8531f140a1",
   "metadata": {},
   "outputs": [
    {
     "name": "stdout",
     "output_type": "stream",
     "text": [
      "Lowest Order Value (Top 10% COD): 1810\n"
     ]
    }
   ],
   "source": [
    "cod_orders = df[df['Payment Method'] == 'Cash on Delivery']\n",
    "cod_orders_sorted = cod_orders.sort_values(by='Order Value', ascending=False)\n",
    "top_10_percent_cod = cod_orders_sorted.head(int(len(cod_orders) * 0.1))\n",
    "lowest_order_value_top_10_percent = top_10_percent_cod['Order Value'].min()\n",
    "\n",
    "print(\"Lowest Order Value (Top 10% COD): \" + str(lowest_order_value_top_10_percent))"
   ]
  },
  {
   "cell_type": "code",
   "execution_count": 38,
   "id": "3317d283-9f59-4a17-b48d-6f1473413b1d",
   "metadata": {},
   "outputs": [
    {
     "name": "stdout",
     "output_type": "stream",
     "text": [
      "Highest Order Value (Bottom 60% Digital Wallet): 1186\n"
     ]
    }
   ],
   "source": [
    "digital_wallet_orders = df[df['Payment Method'] == 'Digital Wallet']\n",
    "digital_wallet_orders_sorted = digital_wallet_orders.sort_values(by='Order Value')\n",
    "bottom_60_percent_digital_wallet = digital_wallet_orders_sorted.head(int(len(digital_wallet_orders) * 0.6))\n",
    "highest_order_value_bottom_60_percent = bottom_60_percent_digital_wallet['Order Value'].max()\n",
    "\n",
    "print(\"Highest Order Value (Bottom 60% Digital Wallet): \" + str(highest_order_value_bottom_60_percent))"
   ]
  },
  {
   "cell_type": "code",
   "execution_count": 40,
   "id": "dc43c7aa-d6a1-4b31-ad4e-f6a79413f13e",
   "metadata": {},
   "outputs": [
    {
     "name": "stdout",
     "output_type": "stream",
     "text": [
      "Difference in Mean Values: -9.976657329598538\n"
     ]
    }
   ],
   "source": [
    "mean_digital_wallet = digital_wallet_orders['Order Value'].mean()\n",
    "mean_cash_on_delivery = cod_orders['Order Value'].mean()\n",
    "difference = mean_digital_wallet - mean_cash_on_delivery\n",
    "\n",
    "print(\"Difference in Mean Values: \" + str(difference))"
   ]
  },
  {
   "cell_type": "code",
   "execution_count": 42,
   "id": "16efecf5-d6f4-4418-bc84-b13334972cb9",
   "metadata": {},
   "outputs": [
    {
     "name": "stdout",
     "output_type": "stream",
     "text": [
      "T-statistic: 25.010005535385886\n",
      "P-value: 6.854686967539162e-108\n",
      "Reject null hypothesis, delivery time is significantly greater than 53 minutes.\n"
     ]
    }
   ],
   "source": [
    "from scipy.stats import ttest_1samp\n",
    "\n",
    "# Null hypothesis: mean delivery time <= 53 minutes\n",
    "# Alternative hypothesis: mean delivery time > 53 minutes\n",
    "\n",
    "# Calculate delivery times in minutes\n",
    "df['Delivery Time'] = (pd.to_datetime(df['Delivery Date and Time']) - pd.to_datetime(df['Order Date and Time'])).dt.total_seconds() / 60\n",
    "\n",
    "# Perform one-sample t-test\n",
    "t_statistic, p_value = ttest_1samp(df['Delivery Time'], 53, alternative='greater')\n",
    "\n",
    "print(\"T-statistic: \" + str(t_statistic))\n",
    "print(\"P-value: \" + str(p_value))\n",
    "\n",
    "if p_value < 0.05:\n",
    "    print(\"Reject null hypothesis, delivery time is significantly greater than 53 minutes.\")\n",
    "else:\n",
    "    print(\"Fail to reject null hypothesis, no significant evidence.\")"
   ]
  },
  {
   "cell_type": "code",
   "execution_count": 44,
   "id": "706e955d-3cf5-436f-a821-01e82cbcc3d2",
   "metadata": {},
   "outputs": [
    {
     "name": "stdout",
     "output_type": "stream",
     "text": [
      "Range of Middle 50% Delivery Times: 46.0\n"
     ]
    }
   ],
   "source": [
    "percentile_25 = df['Delivery Time'].quantile(0.25)\n",
    "percentile_75 = df['Delivery Time'].quantile(0.75)\n",
    "range_middle_50_percent = percentile_75 - percentile_25\n",
    "\n",
    "print(\"Range of Middle 50% Delivery Times: \" + str(range_middle_50_percent))"
   ]
  },
  {
   "cell_type": "code",
   "execution_count": null,
   "id": "dbe3d456-75df-47d1-ac82-e90b56834861",
   "metadata": {},
   "outputs": [],
   "source": []
  }
 ],
 "metadata": {
  "kernelspec": {
   "display_name": "Python [conda env:base] *",
   "language": "python",
   "name": "conda-base-py"
  },
  "language_info": {
   "codemirror_mode": {
    "name": "ipython",
    "version": 3
   },
   "file_extension": ".py",
   "mimetype": "text/x-python",
   "name": "python",
   "nbconvert_exporter": "python",
   "pygments_lexer": "ipython3",
   "version": "3.12.7"
  }
 },
 "nbformat": 4,
 "nbformat_minor": 5
}
