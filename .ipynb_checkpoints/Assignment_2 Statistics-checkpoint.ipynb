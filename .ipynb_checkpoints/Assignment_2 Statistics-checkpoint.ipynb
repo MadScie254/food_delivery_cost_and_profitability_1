{
 "cells": [
  {
   "cell_type": "markdown",
   "id": "2b3cda86-5fb3-4a10-8462-5ad19c52eca7",
   "metadata": {},
   "source": [
    "## 1. Gather the Data\n",
    "Answer:\n",
    "The dataset has been successfully loaded from the provided URL. The data contains information about food delivery orders in New Delhi, including columns like order_id, delivery_method, commission_fee, order_value, payment_method, delivery_time, and refunds_chargebacks."
   ]
  },
  {
   "cell_type": "code",
   "execution_count": 18,
   "id": "deadf5c3-d634-481f-9e1d-7725a72b0122",
   "metadata": {},
   "outputs": [],
   "source": [
    "import pandas as pd\n",
    "import numpy as np\n",
    "from scipy import stats\n",
    "\n",
    "# Load the dataset\n",
    "url = \"https://statso.io/wp-content/uploads/2024/02/food_orders_new_delhi.csv\"\n",
    "df = pd.read_csv(url)"
   ]
  },
  {
   "cell_type": "markdown",
   "id": "8c07e4cd-63f7-44ba-bb19-b3861c9dcf7e",
   "metadata": {},
   "source": [
    "## 2. Clean the Dataset\n",
    "**Answer:**\n",
    "The dataset was cleaned by:\n",
    "\n",
    "Removing rows with missing values.\n",
    "\n",
    "Standardizing categorical values (e.g., delivery_method and payment_method to lowercase).\n",
    "\n",
    "Ensuring numeric columns (commission_fee, order_value, delivery_time) are correctly typed."
   ]
  },
  {
   "cell_type": "code",
   "execution_count": 24,
   "id": "a359bda5-29d2-425f-b582-b66df7349971",
   "metadata": {},
   "outputs": [
    {
     "name": "stdout",
     "output_type": "stream",
     "text": [
      "Initial Dataset Info:\n",
      "<class 'pandas.core.frame.DataFrame'>\n",
      "RangeIndex: 1000 entries, 0 to 999\n",
      "Data columns (total 12 columns):\n",
      " #   Column                  Non-Null Count  Dtype \n",
      "---  ------                  --------------  ----- \n",
      " 0   Order ID                1000 non-null   int64 \n",
      " 1   Customer ID             1000 non-null   object\n",
      " 2   Restaurant ID           1000 non-null   object\n",
      " 3   Order Date and Time     1000 non-null   object\n",
      " 4   Delivery Date and Time  1000 non-null   object\n",
      " 5   Order Value             1000 non-null   int64 \n",
      " 6   Delivery Fee            1000 non-null   int64 \n",
      " 7   Payment Method          1000 non-null   object\n",
      " 8   Discounts and Offers    815 non-null    object\n",
      " 9   Commission Fee          1000 non-null   int64 \n",
      " 10  Payment Processing Fee  1000 non-null   int64 \n",
      " 11  Refunds/Chargebacks     1000 non-null   int64 \n",
      "dtypes: int64(6), object(6)\n",
      "memory usage: 93.9+ KB\n",
      "None\n",
      "\n",
      "Missing Values Before Handling:\n",
      " Order ID                    0\n",
      "Customer ID                 0\n",
      "Restaurant ID               0\n",
      "Order Date and Time         0\n",
      "Delivery Date and Time      0\n",
      "Order Value                 0\n",
      "Delivery Fee                0\n",
      "Payment Method              0\n",
      "Discounts and Offers      185\n",
      "Commission Fee              0\n",
      "Payment Processing Fee      0\n",
      "Refunds/Chargebacks         0\n",
      "dtype: int64\n",
      "\n",
      "Cleaned Dataset Info:\n",
      "<class 'pandas.core.frame.DataFrame'>\n",
      "Index: 912 entries, 0 to 999\n",
      "Data columns (total 12 columns):\n",
      " #   Column                  Non-Null Count  Dtype         \n",
      "---  ------                  --------------  -----         \n",
      " 0   Order ID                912 non-null    int64         \n",
      " 1   Customer ID             912 non-null    object        \n",
      " 2   Restaurant ID           912 non-null    object        \n",
      " 3   Order Date and Time     912 non-null    datetime64[ns]\n",
      " 4   Delivery Date and Time  912 non-null    datetime64[ns]\n",
      " 5   Order Value             912 non-null    int64         \n",
      " 6   Delivery Fee            912 non-null    int64         \n",
      " 7   Payment Method          912 non-null    object        \n",
      " 8   Discounts and Offers    912 non-null    object        \n",
      " 9   Commission Fee          912 non-null    int64         \n",
      " 10  Payment Processing Fee  912 non-null    int64         \n",
      " 11  Refunds/Chargebacks     912 non-null    int64         \n",
      "dtypes: datetime64[ns](2), int64(6), object(4)\n",
      "memory usage: 92.6+ KB\n",
      "None\n",
      "\n",
      "Data Cleaning Completed. Cleaned dataset saved as 'food_orders_cleaned.csv'.\n"
     ]
    }
   ],
   "source": [
    "import pandas as pd\n",
    "\n",
    "# Load the dataset\n",
    "df = pd.read_csv(\"food_orders_new_delhi.csv\")\n",
    "\n",
    "# Display basic info\n",
    "print(\"Initial Dataset Info:\")\n",
    "print(df.info())\n",
    "\n",
    "# Step 1: Handle missing values\n",
    "missing_values = df.isnull().sum()\n",
    "print(\"\\nMissing Values Before Handling:\\n\", missing_values)\n",
    "\n",
    "# Drop rows where essential columns (Order ID, Customer ID, Restaurant ID) are missing\n",
    "df.dropna(subset=['Order ID', 'Customer ID', 'Restaurant ID'], inplace=True)\n",
    "\n",
    "# Fill missing numerical values with median\n",
    "num_cols = ['Order Value', 'Delivery Fee', 'Commission Fee', 'Payment Processing Fee', 'Refunds/Chargebacks']\n",
    "df[num_cols] = df[num_cols].fillna(df[num_cols].median())\n",
    "\n",
    "# Fill missing categorical values with mode\n",
    "cat_cols = ['Discounts and Offers']\n",
    "df[cat_cols] = df[cat_cols].apply(lambda x: x.fillna(x.mode()[0]))\n",
    "\n",
    "# Step 2: Remove duplicate records\n",
    "df.drop_duplicates(inplace=True)\n",
    "\n",
    "# Step 3: Convert data types\n",
    "df['Order Date and Time'] = pd.to_datetime(df['Order Date and Time'])\n",
    "df['Delivery Date and Time'] = pd.to_datetime(df['Delivery Date and Time'])\n",
    "\n",
    "# Step 4: Identify and handle outliers using IQR method\n",
    "for col in num_cols:\n",
    "    Q1 = df[col].quantile(0.25)\n",
    "    Q3 = df[col].quantile(0.75)\n",
    "    IQR = Q3 - Q1\n",
    "    lower_bound = Q1 - 1.5 * IQR\n",
    "    upper_bound = Q3 + 1.5 * IQR\n",
    "    df = df[(df[col] >= lower_bound) & (df[col] <= upper_bound)]\n",
    "\n",
    "# Display cleaned dataset info\n",
    "print(\"\\nCleaned Dataset Info:\")\n",
    "print(df.info())\n",
    "\n",
    "# Save the cleaned dataset\n",
    "df.to_csv(\"food_orders_cleaned.csv\", index=False)\n",
    "\n",
    "print(\"\\nData Cleaning Completed. Cleaned dataset saved as 'food_orders_cleaned.csv'.\")"
   ]
  },
  {
   "cell_type": "markdown",
   "id": "f01a4e9f-712e-4eab-bf32-a2e87fd81fb9",
   "metadata": {},
   "source": [
    "## 3. Next Step: Most Common Delivery Method\n",
    "Now, let's find:\n",
    "\n",
    "The most common delivery method.\n",
    "The proportion of the most common method."
   ]
  },
  {
   "cell_type": "code",
   "execution_count": 27,
   "id": "d29a05d4-9961-47c9-b050-8786ab7f0811",
   "metadata": {},
   "outputs": [
    {
     "name": "stdout",
     "output_type": "stream",
     "text": [
      "Most common payment method: Cash on Delivery\n",
      "Proportion of most common payment method: 35.64%\n"
     ]
    }
   ],
   "source": [
    "# Find the most common payment method\n",
    "most_common_method = df['Payment Method'].mode()[0]\n",
    "method_count = df['Payment Method'].value_counts()[most_common_method]\n",
    "total_orders = len(df)\n",
    "\n",
    "# Calculate the proportion\n",
    "proportion = method_count / total_orders\n",
    "\n",
    "print(f\"Most common payment method: {most_common_method}\")\n",
    "print(f\"Proportion of most common payment method: {proportion:.2%}\")"
   ]
  },
  {
   "cell_type": "markdown",
   "id": "03d68115-4481-41bf-a75a-7cf5a408d94d",
   "metadata": {},
   "source": [
    "# 4. Next Step: **95% Confidence Interval for the Proportion**\n",
    "calculate the **95% confidence interval** for the proportion of orders made with the most common payment method.\n",
    "the formula for the confidence interval for a proportion:\n",
    "The 95% confidence interval for the proportion is given by:\n",
    "\n",
    "\\[\n",
    "CI = p \\pm Z \\times \\sqrt{\\frac{p(1 - p)}{n}}\n",
    "\\]\n",
    "\n",
    "Where:\n",
    "- \\( p \\) is the sample proportion\n",
    "- \\( Z \\) is the Z-score for a 95% confidence level (**1.96**)\n",
    "- \\( n \\) is the total number of orders"
   ]
  },
  {
   "cell_type": "code",
   "execution_count": 43,
   "id": "f261f155-21a0-44a3-98e5-1c5f51273daf",
   "metadata": {},
   "outputs": [
    {
     "name": "stdout",
     "output_type": "stream",
     "text": [
      "95% Confidence Interval for proportion: (0.3253, 0.3874)\n",
      "Or as percentages: (32.53%, 38.74%)\n"
     ]
    }
   ],
   "source": [
    "import numpy as np\n",
    "from scipy.stats import norm\n",
    "\n",
    "# Given values\n",
    "p = proportion  # 35.64% as a decimal\n",
    "n = total_orders\n",
    "z = norm.ppf(0.975)  # Z-score for 95% confidence\n",
    "\n",
    "# Standard error calculation\n",
    "se = np.sqrt((p * (1 - p)) / n)\n",
    "\n",
    "# Confidence interval\n",
    "lower_bound = p - z * se\n",
    "upper_bound = p + z * se\n",
    "\n",
    "print(f\"95% Confidence Interval for proportion: ({lower_bound:.4f}, {upper_bound:.4f})\")\n",
    "print(f\"Or as percentages: ({lower_bound*100:.2f}%, {upper_bound*100:.2f}%)\")"
   ]
  },
  {
   "cell_type": "markdown",
   "id": "ed9e6cae-16fe-487b-bce5-4af186e39b8d",
   "metadata": {},
   "source": [
    "# 5. Next Step: Average & Median Commission Fee\n",
    " let's calculate:  \n",
    "1. **Average commission fee** (Mean)  \n",
    "2. **Median commission fee**  "
   ]
  },
  {
   "cell_type": "code",
   "execution_count": 77,
   "id": "367fe61a-de5c-4b93-87da-9a9f444712e1",
   "metadata": {},
   "outputs": [
    {
     "name": "stdout",
     "output_type": "stream",
     "text": [
      "Average Commission Fee: 126.76\n",
      "Median Commission Fee: 127.00\n"
     ]
    }
   ],
   "source": [
    "# Calculate average commission fee\n",
    "average_commission_fee = df['Commission Fee'].mean()\n",
    "\n",
    "# Calculate median commission fee\n",
    "median_commission_fee = df['Commission Fee'].median()\n",
    "\n",
    "print(f\"Average Commission Fee: {average_commission_fee:.2f}\")\n",
    "print(f\"Median Commission Fee: {median_commission_fee:.2f}\")"
   ]
  },
  {
   "cell_type": "markdown",
   "id": "6a0f403a-1c50-4c35-9ddc-97335b67fff7",
   "metadata": {},
   "source": [
    "# 6. Average Order Value of the Customer\n",
    "To find the average order value for each customer, we can group by the Customer ID and calculate the mean of Order Value:"
   ]
  },
  {
   "cell_type": "code",
   "execution_count": 80,
   "id": "5e9040f0-d402-412b-af6a-ffae5035f9b6",
   "metadata": {},
   "outputs": [
    {
     "name": "stdout",
     "output_type": "stream",
     "text": [
      "Average Order Value per Customer: 1045.00\n"
     ]
    }
   ],
   "source": [
    "# Calculate average order value per customer\n",
    "average_order_value_per_customer = df.groupby('Customer ID')['Order Value'].mean()\n",
    "\n",
    "# Calculate the overall average order value\n",
    "overall_average_order_value = average_order_value_per_customer.mean()\n",
    "\n",
    "print(f\"Average Order Value per Customer: {overall_average_order_value:.2f}\")"
   ]
  },
  {
   "cell_type": "markdown",
   "id": "29917482-920c-4515-816d-02a2c6d97229",
   "metadata": {},
   "source": [
    "# 7.Next Step: Probability Calculations\n",
    "Find the probability that a commission fee is:\n",
    "\n",
    "More than 120\n",
    "Less than 143\n",
    "Between 86 and 133"
   ]
  },
  {
   "cell_type": "code",
   "execution_count": 83,
   "id": "3cc5761d-03d0-4d71-85c9-7a6e1cdc9434",
   "metadata": {},
   "outputs": [
    {
     "name": "stdout",
     "output_type": "stream",
     "text": [
      "Probability that commission fee is more than 120: 0.5624\n",
      "Probability that commission fee is less than 143: 0.6472\n",
      "Probability that commission fee is between 86 and 133: 0.3860\n"
     ]
    }
   ],
   "source": [
    "# Import necessary library\n",
    "from scipy.stats import norm\n",
    "\n",
    "# Get mean and standard deviation\n",
    "mean_commission = df['Commission Fee'].mean()\n",
    "std_commission = df['Commission Fee'].std()\n",
    "\n",
    "# Probability calculations using normal distribution\n",
    "prob_more_than_120 = 1 - norm.cdf(120, mean_commission, std_commission)\n",
    "prob_less_than_143 = norm.cdf(143, mean_commission, std_commission)\n",
    "prob_between_86_and_133 = norm.cdf(133, mean_commission, std_commission) - norm.cdf(86, mean_commission, std_commission)\n",
    "\n",
    "print(f\"Probability that commission fee is more than 120: {prob_more_than_120:.4f}\")\n",
    "print(f\"Probability that commission fee is less than 143: {prob_less_than_143:.4f}\")\n",
    "print(f\"Probability that commission fee is between 86 and 133: {prob_between_86_and_133:.4f}\")"
   ]
  },
  {
   "cell_type": "markdown",
   "id": "db310754-0321-48e5-9c43-596c695996ec",
   "metadata": {},
   "source": [
    "# 8. Next Step: Average Delivery Time for Credit Card Orders\n",
    "Calculate the average delivery time for orders that were paid using Credit Card.\n",
    "\n",
    "first create a new column that computes the delivery time (difference between delivery time and order time), then filter by Credit Card payment method and find the average."
   ]
  },
  {
   "cell_type": "code",
   "execution_count": 86,
   "id": "de37b149-fa52-45bc-abef-b561152b83c0",
   "metadata": {},
   "outputs": [
    {
     "name": "stdout",
     "output_type": "stream",
     "text": [
      "Average Delivery Time for Credit Card orders: 73.87 minutes\n"
     ]
    }
   ],
   "source": [
    "# Calculate delivery time (difference between delivery and order times)\n",
    "df['Delivery Time'] = (df['Delivery Date and Time'] - df['Order Date and Time']).dt.total_seconds() / 60  # in minutes\n",
    "\n",
    "# Filter for Credit Card payment method\n",
    "credit_card_orders = df[df['Payment Method'] == 'Credit Card']\n",
    "\n",
    "# Calculate average delivery time for Credit Card orders\n",
    "average_delivery_time_cc = credit_card_orders['Delivery Time'].mean()\n",
    "\n",
    "print(f\"Average Delivery Time for Credit Card orders: {average_delivery_time_cc:.2f} minutes\")"
   ]
  },
  {
   "cell_type": "markdown",
   "id": "3bbdc82f-d98b-4dd9-be58-c4590e0255e1",
   "metadata": {},
   "source": [
    "# 9. Next Step: Lowest Order Value of 10% Largest Orders (Cash on Delivery)\n",
    "find the lowest order value of the 10% largest orders paid using Cash on Delivery.:\n",
    "\n",
    "Filter for Cash on Delivery orders.\n",
    "Sort them by order value in descending order.\n",
    "Select the top 10% and find the minimum order value."
   ]
  },
  {
   "cell_type": "code",
   "execution_count": 89,
   "id": "525a72f5-07c5-4db3-a879-50434ed4a83c",
   "metadata": {},
   "outputs": [
    {
     "name": "stdout",
     "output_type": "stream",
     "text": [
      "Lowest order value of the 10% largest Cash on Delivery orders: 1810\n"
     ]
    }
   ],
   "source": [
    "# Filter for Cash on Delivery payment method\n",
    "cash_on_delivery_orders = df[df['Payment Method'] == 'Cash on Delivery']\n",
    "\n",
    "# Sort by Order Value in descending order\n",
    "sorted_cash_on_delivery = cash_on_delivery_orders.sort_values(by='Order Value', ascending=False)\n",
    "\n",
    "# Get the lowest order value of the top 10% largest orders\n",
    "top_10_percent = sorted_cash_on_delivery.head(int(len(sorted_cash_on_delivery) * 0.1))\n",
    "lowest_order_value_top_10 = top_10_percent['Order Value'].min()\n",
    "\n",
    "print(f\"Lowest order value of the 10% largest Cash on Delivery orders: {lowest_order_value_top_10}\")\n"
   ]
  },
  {
   "cell_type": "markdown",
   "id": "6d35dcdb-b02f-419e-8d4e-62d2f4687cbf",
   "metadata": {},
   "source": [
    "# 10. Next Step: Highest Order Value of 60% Least Orders (Digital Wallet)\n",
    "calculate the highest order value of the 60% least orders paid using Digital Wallet.\n",
    "My plan:\n",
    "\n",
    "Filter for Digital Wallet payment method.\n",
    "Sort the orders by order value in ascending order.\n",
    "Select the bottom 60% and find the maximum order value."
   ]
  },
  {
   "cell_type": "code",
   "execution_count": 95,
   "id": "3574ac8a-275c-4567-a220-1fbbb4500d0a",
   "metadata": {},
   "outputs": [
    {
     "name": "stdout",
     "output_type": "stream",
     "text": [
      "Highest order value of the 60% least Digital Wallet orders: 1166\n"
     ]
    }
   ],
   "source": [
    "# Filter for Digital Wallet payment method\n",
    "digital_wallet_orders = df[df['Payment Method'] == 'Digital Wallet']\n",
    "\n",
    "# Sort by Order Value in ascending order\n",
    "sorted_digital_wallet = digital_wallet_orders.sort_values(by='Order Value', ascending=True)\n",
    "\n",
    "# Get the highest order value of the bottom 60% least orders\n",
    "bottom_60_percent = sorted_digital_wallet.head(int(len(sorted_digital_wallet) * 0.6))\n",
    "highest_order_value_bottom_60 = bottom_60_percent['Order Value'].max()\n",
    "\n",
    "print(f\"Highest order value of the 60% least Digital Wallet orders: {highest_order_value_bottom_60}\")"
   ]
  },
  {
   "cell_type": "markdown",
   "id": "ba9e53d2-f959-4b50-b68f-4a91457362d0",
   "metadata": {},
   "source": [
    "# 11. Mean order value between Digital Wallet and Cash on Delivery."
   ]
  },
  {
   "cell_type": "code",
   "execution_count": 98,
   "id": "ae647ac9-064f-4061-a12a-bad0cbe4109b",
   "metadata": {},
   "outputs": [
    {
     "name": "stdout",
     "output_type": "stream",
     "text": [
      "Mean order value for Digital Wallet: 1030.64\n",
      "Mean order value for Cash on Delivery: 1039.66\n",
      "Difference in mean order value (Digital Wallet - Cash on Delivery): -9.01\n"
     ]
    }
   ],
   "source": [
    "# Calculate mean order value for Digital Wallet\n",
    "mean_order_value_dw = digital_wallet_orders['Order Value'].mean()\n",
    "\n",
    "# Calculate mean order value for Cash on Delivery\n",
    "mean_order_value_cod = cash_on_delivery_orders['Order Value'].mean()\n",
    "\n",
    "# Find the difference\n",
    "mean_difference = mean_order_value_dw - mean_order_value_cod\n",
    "\n",
    "print(f\"Mean order value for Digital Wallet: {mean_order_value_dw:.2f}\")\n",
    "print(f\"Mean order value for Cash on Delivery: {mean_order_value_cod:.2f}\")\n",
    "print(f\"Difference in mean order value (Digital Wallet - Cash on Delivery): {mean_difference:.2f}\")"
   ]
  },
  {
   "cell_type": "markdown",
   "id": "b7cb84b0-d2c2-4dca-8ad7-f6fcaf69edad",
   "metadata": {},
   "source": [
    "# 12. Next Step: Delivery Time Claim Test\n",
    "Let’s test the claim: \"The delivery time for any item will take more than 53 minutes\" using a significance level of 0.05.\n",
    "\n",
    "perform a one-sample t-test to check if the mean delivery time is significantly greater than 53 minutes."
   ]
  },
  {
   "cell_type": "code",
   "execution_count": 101,
   "id": "3a23c046-ebf9-4cf4-a5f6-eef04e271faa",
   "metadata": {},
   "outputs": [
    {
     "name": "stdout",
     "output_type": "stream",
     "text": [
      "Mean delivery time: 73.60 minutes\n",
      "t-statistic: 23.90\n",
      "p-value: 0.0000\n",
      "Reject the null hypothesis: The delivery time is significantly greater than 53 minutes.\n"
     ]
    }
   ],
   "source": [
    "from scipy import stats\n",
    "\n",
    "# Perform a one-sample t-test to check if mean delivery time > 53 minutes\n",
    "# H0: mean delivery time <= 53\n",
    "# H1: mean delivery time > 53\n",
    "\n",
    "# Calculate the mean delivery time\n",
    "mean_delivery_time = df['Delivery Time'].mean()\n",
    "\n",
    "# Perform t-test (one-sample)\n",
    "t_statistic, p_value = stats.ttest_1samp(df['Delivery Time'], 53)\n",
    "\n",
    "# Since it's a one-sided test, we check if the p-value is less than 0.05\n",
    "if p_value / 2 < 0.05 and mean_delivery_time > 53:\n",
    "    result = \"Reject the null hypothesis: The delivery time is significantly greater than 53 minutes.\"\n",
    "else:\n",
    "    result = \"Fail to reject the null hypothesis: The delivery time is not significantly greater than 53 minutes.\"\n",
    "\n",
    "print(f\"Mean delivery time: {mean_delivery_time:.2f} minutes\")\n",
    "print(f\"t-statistic: {t_statistic:.2f}\")\n",
    "print(f\"p-value: {p_value:.4f}\")\n",
    "print(result)"
   ]
  },
  {
   "cell_type": "markdown",
   "id": "923f0c52-d8cd-4871-a4e9-3554b06e6f13",
   "metadata": {},
   "source": [
    "Since the p-value is less than 0.05, we reject the null hypothesis. This means there is strong evidence to support the claim that the delivery time is significantly greater than 53 minutes."
   ]
  },
  {
   "cell_type": "markdown",
   "id": "63abdc69-8e3a-42bd-811c-267093321059",
   "metadata": {},
   "source": [
    "## 13. Next Step: Range of Middle 50% of Ordering-Delivery Durations\n",
    "calculate the range within which the middle 50% of the ordering-delivery durations (i.e., the interquartile range) differ."
   ]
  },
  {
   "cell_type": "code",
   "execution_count": 105,
   "id": "5be53fff-440b-4d34-ad25-8dd5967b3dad",
   "metadata": {},
   "outputs": [
    {
     "name": "stdout",
     "output_type": "stream",
     "text": [
      "Range within which the middle 50% of ordering-delivery durations differ: 46.00 minutes\n"
     ]
    }
   ],
   "source": [
    "# Calculate the interquartile range (IQR) of delivery times\n",
    "iqr_delivery_time = df['Delivery Time'].quantile(0.75) - df['Delivery Time'].quantile(0.25)\n",
    "\n",
    "print(f\"Range within which the middle 50% of ordering-delivery durations differ: {iqr_delivery_time:.2f} minutes\")"
   ]
  },
  {
   "cell_type": "markdown",
   "id": "3aa073c9-9675-4a4a-be6c-b78dcb19f2ed",
   "metadata": {},
   "source": [
    "# 14. Next Step: Distribution of Refunds/Chargebacks\n",
    "Analyze the distribution of payment methods where the Refunds/Chargebacks are greater than zero.\n",
    "\n",
    "filter for rows where the Refunds/Chargebacks column has values greater than zero and then look at the distribution of Payment Method."
   ]
  },
  {
   "cell_type": "code",
   "execution_count": 108,
   "id": "e3cea7d0-fba7-4826-bab3-5eb398bbd8fc",
   "metadata": {},
   "outputs": [
    {
     "name": "stdout",
     "output_type": "stream",
     "text": [
      "Distribution of payment methods for Refunds/Chargebacks > 0:\n",
      "Payment Method\n",
      "Cash on Delivery    69\n",
      "Credit Card         65\n",
      "Digital Wallet      63\n",
      "Name: count, dtype: int64\n"
     ]
    }
   ],
   "source": [
    "# Filter for rows where Refunds/Chargebacks > 0\n",
    "refunds_data = df[df['Refunds/Chargebacks'] > 0]\n",
    "\n",
    "# Get the distribution of Payment Methods for these rows\n",
    "payment_method_distribution = refunds_data['Payment Method'].value_counts()\n",
    "\n",
    "print(\"Distribution of payment methods for Refunds/Chargebacks > 0:\")\n",
    "print(payment_method_distribution)"
   ]
  },
  {
   "cell_type": "code",
   "execution_count": null,
   "id": "9ef3b54d-a260-430b-9e7d-c8a1fdf8d770",
   "metadata": {},
   "outputs": [],
   "source": []
  },
  {
   "cell_type": "code",
   "execution_count": null,
   "id": "7580376c-204b-43d3-aa9c-dea3d74723be",
   "metadata": {},
   "outputs": [],
   "source": []
  }
 ],
 "metadata": {
  "kernelspec": {
   "display_name": "Python [conda env:base] *",
   "language": "python",
   "name": "conda-base-py"
  },
  "language_info": {
   "codemirror_mode": {
    "name": "ipython",
    "version": 3
   },
   "file_extension": ".py",
   "mimetype": "text/x-python",
   "name": "python",
   "nbconvert_exporter": "python",
   "pygments_lexer": "ipython3",
   "version": "3.12.7"
  }
 },
 "nbformat": 4,
 "nbformat_minor": 5
}
