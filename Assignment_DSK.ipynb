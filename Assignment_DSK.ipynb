{
 "cells": [
  {
   "cell_type": "code",
   "execution_count": 12,
   "id": "79887add-adb4-4701-917a-86d73993f560",
   "metadata": {},
   "outputs": [],
   "source": [
    "import pandas as pd\n",
    "from scipy import stats\n",
    "import numpy as np\n",
    "\n",
    "# Load data\n",
    "df = pd.read_csv(\"food_orders_new_delhi.csv\")\n",
    "\n",
    "# Convert date columns to datetime\n",
    "df['Order Date and Time'] = pd.to_datetime(df['Order Date and Time'])\n",
    "df['Delivery Date and Time'] = pd.to_datetime(df['Delivery Date and Time'])\n",
    "\n",
    "# 2. Clean data\n",
    "# Standardize discounts (remove text)\n",
    "df['Discounts and Offers'] = df['Discounts and Offers'].str.replace(r'\\D+', '', regex=True).replace('', '0').astype(float)"
   ]
  },
  {
   "cell_type": "code",
   "execution_count": null,
   "id": "7f1d99ab-1ed3-4c42-8961-579ab0775a16",
   "metadata": {},
   "outputs": [],
   "source": []
  },
  {
   "cell_type": "code",
   "execution_count": 14,
   "id": "a9869bb5-0fa5-461b-bb5c-1e5aec02bd64",
   "metadata": {},
   "outputs": [
    {
     "name": "stdout",
     "output_type": "stream",
     "text": [
      "3. Most common method: Cash on Delivery (35.7%)\n"
     ]
    }
   ],
   "source": [
    "# 3. Most common payment method\n",
    "payment_counts = df['Payment Method'].value_counts()\n",
    "most_common = payment_counts.idxmax()\n",
    "proportion = payment_counts.max()/len(df)\n",
    "print(f\"3. Most common method: {most_common} ({proportion:.1%})\")"
   ]
  },
  {
   "cell_type": "code",
   "execution_count": null,
   "id": "0bb7477d-71b8-40f9-92ad-1ab654ca6f8b",
   "metadata": {},
   "outputs": [],
   "source": []
  },
  {
   "cell_type": "code",
   "execution_count": 16,
   "id": "397bc91d-5141-4ace-8305-2c29ab1baf74",
   "metadata": {},
   "outputs": [
    {
     "name": "stdout",
     "output_type": "stream",
     "text": [
      "4. 95% CI: (0.327, 0.387)\n"
     ]
    }
   ],
   "source": [
    "# 4. 95% CI for proportion\n",
    "se = np.sqrt((proportion*(1-proportion))/len(df))\n",
    "ci = (proportion - 1.96*se, proportion + 1.96*se)\n",
    "print(f\"4. 95% CI: ({ci[0]:.3f}, {ci[1]:.3f})\")"
   ]
  },
  {
   "cell_type": "code",
   "execution_count": null,
   "id": "27160329-a7aa-4be7-b68c-27368ff411b8",
   "metadata": {},
   "outputs": [],
   "source": []
  },
  {
   "cell_type": "code",
   "execution_count": 18,
   "id": "7d073f7a-53f5-431b-a7e1-848e80952e0f",
   "metadata": {},
   "outputs": [
    {
     "name": "stdout",
     "output_type": "stream",
     "text": [
      "5. Commission - Mean: 126.99, Median: 127.0\n"
     ]
    }
   ],
   "source": [
    "# 5. Commission fee stats\n",
    "print(f\"5. Commission - Mean: {df['Commission Fee'].mean():.2f}, Median: {df['Commission Fee'].median()}\")"
   ]
  },
  {
   "cell_type": "code",
   "execution_count": null,
   "id": "c4f28bcd-db63-459f-a5b0-e032ef97478d",
   "metadata": {},
   "outputs": [],
   "source": []
  },
  {
   "cell_type": "code",
   "execution_count": 20,
   "id": "cf0a6731-19a3-4b5d-a089-0f20f203f018",
   "metadata": {},
   "outputs": [
    {
     "name": "stdout",
     "output_type": "stream",
     "text": [
      "6. Avg Order Value: 1053.97\n"
     ]
    }
   ],
   "source": [
    "# 6. Average order value\n",
    "print(f\"6. Avg Order Value: {df['Order Value'].mean():.2f}\")"
   ]
  },
  {
   "cell_type": "code",
   "execution_count": null,
   "id": "4607ee49-d9f3-4735-8f7f-9605215c1c40",
   "metadata": {},
   "outputs": [],
   "source": []
  },
  {
   "cell_type": "code",
   "execution_count": 22,
   "id": "2aacdb95-8be4-4e68-8af6-e6cb26d5009a",
   "metadata": {},
   "outputs": [
    {
     "name": "stdout",
     "output_type": "stream",
     "text": [
      "7. Probabilities - i) 55.1%, ii) 60.5%, iii) 32.2%\n"
     ]
    }
   ],
   "source": [
    "# 7. Commission probabilities\n",
    "total = len(df)\n",
    "p1 = len(df[df['Commission Fee'] > 120])/total\n",
    "p2 = len(df[df['Commission Fee'] < 143])/total\n",
    "p3 = len(df[(df['Commission Fee'] >= 86) & (df['Commission Fee'] <= 133)])/total\n",
    "print(f\"7. Probabilities - i) {p1:.1%}, ii) {p2:.1%}, iii) {p3:.1%}\")"
   ]
  },
  {
   "cell_type": "code",
   "execution_count": null,
   "id": "70b083d3-3246-4014-a62f-5e1ee77cbce3",
   "metadata": {},
   "outputs": [],
   "source": []
  },
  {
   "cell_type": "code",
   "execution_count": 24,
   "id": "3a461c73-76ac-4494-b277-d4a6fee650ed",
   "metadata": {},
   "outputs": [
    {
     "name": "stdout",
     "output_type": "stream",
     "text": [
      "8. Avg delivery time (CC): 74.0 minutes\n"
     ]
    }
   ],
   "source": [
    "# 8. Delivery time for Credit Card\n",
    "cc_orders = df[df['Payment Method'] == 'Credit Card']\n",
    "delivery_time = (cc_orders['Delivery Date and Time'] - cc_orders['Order Date and Time']).dt.total_seconds()/60\n",
    "print(f\"8. Avg delivery time (CC): {delivery_time.mean():.1f} minutes\")\n"
   ]
  },
  {
   "cell_type": "code",
   "execution_count": null,
   "id": "f2e97e4a-1253-4043-8e41-b69b5a7e25bf",
   "metadata": {},
   "outputs": [],
   "source": []
  },
  {
   "cell_type": "code",
   "execution_count": 26,
   "id": "380cbf7b-bb91-4075-9c1f-aa0df003a671",
   "metadata": {},
   "outputs": [
    {
     "name": "stdout",
     "output_type": "stream",
     "text": [
      "9. Lowest in top 10% Cash: 1810\n",
      "10. Highest in bottom 60% Digital: 1186\n",
      "11. Digital Wallet is ₹-10.0 higher\n",
      "12. Reject H₀ (p=0.0000)\n",
      "13. Middle 50% range: 50-96 minutes\n",
      "14. Refund distribution:\n",
      "Payment Method\n",
      "Credit Card         0.357895\n",
      "Cash on Delivery    0.354386\n",
      "Digital Wallet      0.287719\n",
      "Name: proportion, dtype: float64\n"
     ]
    }
   ],
   "source": [
    "# 9. Lowest of top 10% Cash orders\n",
    "cash_orders = df[df['Payment Method'] == 'Cash on Delivery'].sort_values('Order Value', ascending=False)\n",
    "top_10 = cash_orders.head(int(len(cash_orders)*0.1))\n",
    "print(f\"9. Lowest in top 10% Cash: {top_10['Order Value'].min()}\")\n",
    "\n",
    "# 10. Highest of bottom 60% Digital\n",
    "digital_orders = df[df['Payment Method'] == 'Digital Wallet'].sort_values('Order Value')\n",
    "bottom_60 = digital_orders.head(int(len(digital_orders)*0.6))\n",
    "print(f\"10. Highest in bottom 60% Digital: {bottom_60['Order Value'].max()}\")\n",
    "\n",
    "# 11. Mean difference between Digital vs Cash\n",
    "digital_mean = df[df['Payment Method'] == 'Digital Wallet']['Order Value'].mean()\n",
    "cash_mean = df[df['Payment Method'] == 'Cash on Delivery']['Order Value'].mean()\n",
    "print(f\"11. Digital Wallet is ₹{digital_mean - cash_mean:.1f} higher\")\n",
    "\n",
    "# 12. Hypothesis test (μ >53)\n",
    "delivery_times = (df['Delivery Date and Time'] - df['Order Date and Time']).dt.total_seconds()/60\n",
    "t_stat, p_val = stats.ttest_1samp(delivery_times, 53, alternative='greater')\n",
    "print(f\"12. {'Reject' if p_val < 0.05 else 'Fail to reject'} H₀ (p={p_val:.4f})\")\n",
    "\n",
    "# 13. IQR of delivery times\n",
    "q1, q3 = np.percentile(delivery_times, [25, 75])\n",
    "print(f\"13. Middle 50% range: {q1:.0f}-{q3:.0f} minutes\")\n",
    "\n",
    "# 14. Payment methods with refunds\n",
    "refund_df = df[df['Refunds/Chargebacks'] > 0]\n",
    "refund_dist = refund_df['Payment Method'].value_counts(normalize=True)\n",
    "print(\"14. Refund distribution:\")\n",
    "print(refund_dist)"
   ]
  },
  {
   "cell_type": "code",
   "execution_count": null,
   "id": "11483292-e49d-4fc3-8293-8017f346d63c",
   "metadata": {},
   "outputs": [],
   "source": []
  },
  {
   "cell_type": "code",
   "execution_count": null,
   "id": "24d833d4-92f9-45a9-aa00-b9f6c930c6fa",
   "metadata": {},
   "outputs": [],
   "source": []
  },
  {
   "cell_type": "code",
   "execution_count": null,
   "id": "e2a55681-4a5d-4400-bdbd-65cb66cc998b",
   "metadata": {},
   "outputs": [],
   "source": []
  },
  {
   "cell_type": "code",
   "execution_count": null,
   "id": "1af0cdfc-4610-471c-ba0f-aea4bbbedc10",
   "metadata": {},
   "outputs": [],
   "source": []
  },
  {
   "cell_type": "code",
   "execution_count": null,
   "id": "5071ea41-3fb8-4c4b-be7c-bb97e1d3e3df",
   "metadata": {},
   "outputs": [],
   "source": []
  },
  {
   "cell_type": "code",
   "execution_count": null,
   "id": "cc5a369b-8f72-46d7-8278-086a23f9ebd1",
   "metadata": {},
   "outputs": [],
   "source": []
  },
  {
   "cell_type": "code",
   "execution_count": null,
   "id": "5c0eb977-eb82-40ba-b10a-974854d227da",
   "metadata": {},
   "outputs": [],
   "source": []
  },
  {
   "cell_type": "code",
   "execution_count": null,
   "id": "6cdb72bc-0a8a-436b-b829-a5890a2e1988",
   "metadata": {},
   "outputs": [],
   "source": []
  }
 ],
 "metadata": {
  "kernelspec": {
   "display_name": "Python [conda env:base] *",
   "language": "python",
   "name": "conda-base-py"
  },
  "language_info": {
   "codemirror_mode": {
    "name": "ipython",
    "version": 3
   },
   "file_extension": ".py",
   "mimetype": "text/x-python",
   "name": "python",
   "nbconvert_exporter": "python",
   "pygments_lexer": "ipython3",
   "version": "3.12.7"
  }
 },
 "nbformat": 4,
 "nbformat_minor": 5
}
