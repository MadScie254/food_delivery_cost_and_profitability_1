{
 "cells": [
  {
   "cell_type": "code",
   "execution_count": null,
   "id": "79887add-adb4-4701-917a-86d73993f560",
   "metadata": {},
   "outputs": [],
   "source": []
  }
 ],
 "metadata": {
  "kernelspec": {
   "display_name": "",
   "name": ""
  },
  "language_info": {
   "name": ""
  }
 },
 "nbformat": 4,
 "nbformat_minor": 5
}
